{
  "nbformat": 4,
  "nbformat_minor": 0,
  "metadata": {
    "colab": {
      "provenance": [],
      "gpuType": "T4"
    },
    "kernelspec": {
      "name": "python3",
      "display_name": "Python 3"
    },
    "language_info": {
      "name": "python"
    },
    "accelerator": "GPU"
  },
  "cells": [
    {
      "cell_type": "code",
      "source": [
        "from google.colab import drive\n",
        "drive.mount('/content/drive')\n"
      ],
      "metadata": {
        "colab": {
          "base_uri": "https://localhost:8080/"
        },
        "id": "xfs6m1nLL_s0",
        "outputId": "2ba8ec26-8d90-4e31-dcc5-131288283c2a"
      },
      "execution_count": 6,
      "outputs": [
        {
          "output_type": "stream",
          "name": "stdout",
          "text": [
            "Drive already mounted at /content/drive; to attempt to forcibly remount, call drive.mount(\"/content/drive\", force_remount=True).\n"
          ]
        }
      ]
    },
    {
      "cell_type": "code",
      "source": [
        "import numpy as np\n",
        "import pandas as pd\n",
        "import seaborn as sns\n",
        "import cv2\n",
        "import os\n",
        "from tqdm import tqdm\n",
        "import torch\n",
        "import torchvision\n",
        "from torchvision import transforms, models\n",
        "from torch.utils.data import Dataset, DataLoader\n",
        "from PIL import Image\n",
        "import albumentations as A\n",
        "from albumentations.pytorch import ToTensorV2\n",
        "from sklearn.cluster import KMeans, DBSCAN\n",
        "from scipy.spatial import distance\n",
        "import networkx as nxp\n",
        "import matplotlib.pyplot as plt\n",
        "import torch.nn as nn\n",
        "import torch.optim as optim"
      ],
      "metadata": {
        "id": "Cf32asXRnWsW"
      },
      "execution_count": 4,
      "outputs": []
    },
    {
      "cell_type": "code",
      "source": [
        "# Cell 2: Implémentation du modèle et de l'entraînement\n",
        "import os\n",
        "import cv2\n",
        "import numpy as np\n",
        "import torch\n",
        "import torch.optim as optim\n",
        "from torch.utils.data import Dataset, DataLoader\n",
        "from torchvision import models, transforms\n",
        "from torchvision.models.detection.faster_rcnn import FastRCNNPredictor\n",
        "import albumentations as A\n",
        "from albumentations.pytorch import ToTensorV2\n",
        "from tqdm import tqdm\n",
        "\n",
        "# Vérifier la disponibilité du GPU\n",
        "if torch.cuda.is_available():\n",
        "    device = torch.device('cuda')\n",
        "    print('GPU disponible. Utilisation du GPU pour l\\'entraînement.')\n",
        "    # Afficher les informations du GPU\n",
        "    print(f\"GPU utilisé: {torch.cuda.get_device_name(0)}\")\n",
        "    print(f\"Mémoire GPU totale: {torch.cuda.get_device_properties(0).total_memory / 1e9:.2f} GB\")\n",
        "    print(f\"Mémoire GPU disponible: {torch.cuda.memory_allocated(0) / 1e9:.2f} GB utilisée\")\n",
        "\n",
        "    # Optimisations pour performance GPU\n",
        "    torch.backends.cudnn.benchmark = True\n",
        "    torch.backends.cudnn.deterministic = False\n",
        "else:\n",
        "    device = torch.device('cpu')\n",
        "    print('GPU non disponible. Utilisation du CPU pour l\\'entraînement.')\n",
        "\n",
        "# Nouveaux chemins pour les données\n",
        "images_dir = '/content/drive/MyDrive/data/montagne/train/images'\n",
        "labels_dir = '/content/drive/MyDrive/data/montagne/train/labels'\n",
        "\n",
        "# Vérifier que les répertoires existent\n",
        "print(f\"Images directory exists: {os.path.exists(images_dir)}\")\n",
        "print(f\"Labels directory exists: {os.path.exists(labels_dir)}\")\n",
        "\n",
        "# Créer une classe de dataset personnalisée pour le format YOLO\n",
        "class YOLODataset(Dataset):\n",
        "    def __init__(self, images_dir, labels_dir, transform=None):\n",
        "        self.images_dir = images_dir\n",
        "        self.labels_dir = labels_dir\n",
        "        self.transform = transform\n",
        "\n",
        "        if os.path.exists(images_dir):\n",
        "            self.image_files = [f for f in os.listdir(images_dir) if f.endswith(('.jpg', '.jpeg', '.png'))]\n",
        "            print(f\"Found {len(self.image_files)} images\")\n",
        "        else:\n",
        "            print(f\"Warning: Images directory {images_dir} not found\")\n",
        "            self.image_files = []\n",
        "\n",
        "    def __len__(self):\n",
        "        return len(self.image_files)\n",
        "\n",
        "    def __getitem__(self, idx):\n",
        "        img_file = self.image_files[idx]\n",
        "        img_path = os.path.join(self.images_dir, img_file)\n",
        "\n",
        "        image = cv2.imread(img_path)\n",
        "        if image is None:\n",
        "            print(f\"Warning: Could not read image {img_path}\")\n",
        "            # Retourner une image noire en cas d'échec de lecture\n",
        "            image = np.zeros((640, 640, 3), dtype=np.uint8)\n",
        "        else:\n",
        "            image = cv2.cvtColor(image, cv2.COLOR_BGR2RGB)\n",
        "\n",
        "        label_file = os.path.splitext(img_file)[0] + '.txt'\n",
        "        label_path = os.path.join(self.labels_dir, label_file)\n",
        "\n",
        "        boxes = []\n",
        "        classes = []\n",
        "        if os.path.exists(label_path):\n",
        "            with open(label_path, 'r') as f:\n",
        "                for line in f:\n",
        "                    try:\n",
        "                        data = line.strip().split()\n",
        "                        if len(data) >= 5:  # S'assurer qu'il y a assez de données\n",
        "                            class_id = int(data[0])\n",
        "                            x_center, y_center, width, height = map(float, data[1:5])\n",
        "                            # Vérification de validité des coordonnées\n",
        "                            if 0 <= x_center <= 1 and 0 <= y_center <= 1 and width > 0 and height > 0:\n",
        "                                classes.append(class_id)\n",
        "                                boxes.append([x_center, y_center, width, height])\n",
        "                    except (ValueError, IndexError) as e:\n",
        "                        print(f\"Warning: Error parsing line in {label_path}: {e}\")\n",
        "                        continue\n",
        "\n",
        "        boxes = np.array(boxes, dtype=np.float32)\n",
        "        classes = np.array(classes, dtype=np.int64)\n",
        "\n",
        "        if self.transform:\n",
        "            try:\n",
        "                if len(boxes) > 0:\n",
        "                    h, w, _ = image.shape\n",
        "                    transformed_boxes = []\n",
        "                    for box in boxes:\n",
        "                        x_center, y_center, width, height = box\n",
        "                        x1 = (x_center - width/2) * w\n",
        "                        y1 = (y_center - height/2) * h\n",
        "                        x2 = (x_center + width/2) * w\n",
        "                        y2 = (y_center + height/2) * h\n",
        "                        transformed_boxes.append([x1, y1, x2, y2])\n",
        "\n",
        "                    transformed = self.transform(image=image, bboxes=transformed_boxes, class_labels=classes)\n",
        "                    image = transformed['image']\n",
        "\n",
        "                    if transformed['bboxes']:\n",
        "                        h, w = transformed['image'].shape[1:3] if isinstance(transformed['image'], torch.Tensor) else transformed['image'].shape[:2]\n",
        "                        boxes = []\n",
        "                        for box in transformed['bboxes']:\n",
        "                            x1, y1, x2, y2 = box\n",
        "                            x_center = ((x1 + x2) / 2) / w\n",
        "                            y_center = ((y1 + y2) / 2) / h\n",
        "                            width = (x2 - x1) / w\n",
        "                            height = (y2 - y1) / h\n",
        "                            boxes.append([x_center, y_center, width, height])\n",
        "                        boxes = np.array(boxes, dtype=np.float32)\n",
        "                        classes = np.array(transformed['class_labels'], dtype=np.int64)\n",
        "                    else:\n",
        "                        boxes = np.zeros((0, 4), dtype=np.float32)\n",
        "                        classes = np.array([], dtype=np.int64)\n",
        "                else:\n",
        "                    transformed = self.transform(image=image)\n",
        "                    image = transformed['image']\n",
        "            except Exception as e:\n",
        "                print(f\"Error during transformation: {e}\")\n",
        "                # En cas d'erreur, retourner une image transformée sans boîtes\n",
        "                transformed = self.transform(image=image)\n",
        "                image = transformed['image']\n",
        "                boxes = np.zeros((0, 4), dtype=np.float32)\n",
        "                classes = np.array([], dtype=np.int64)\n",
        "\n",
        "        return {\n",
        "            'image': image,\n",
        "            'boxes': boxes,\n",
        "            'classes': classes\n",
        "        }\n",
        "\n",
        "# Définir les transformations pour l'entraînement\n",
        "train_transforms = A.Compose([\n",
        "    A.RandomResizedCrop(size=(640, 640)),\n",
        "    A.HorizontalFlip(p=0.5),\n",
        "    A.RandomBrightnessContrast(p=0.2),\n",
        "    A.Normalize(mean=[0.485, 0.456, 0.406], std=[0.229, 0.224, 0.225]),\n",
        "    ToTensorV2()\n",
        "], bbox_params=A.BboxParams(format='pascal_voc', label_fields=['class_labels']))\n",
        "\n",
        "val_transforms = A.Compose([\n",
        "    A.Resize(height=640, width=640),\n",
        "    A.Normalize(mean=[0.485, 0.456, 0.406], std=[0.229, 0.224, 0.225]),\n",
        "    ToTensorV2()\n",
        "], bbox_params=A.BboxParams(format='pascal_voc', label_fields=['class_labels']))\n",
        "\n",
        "# Créer les datasets\n",
        "train_dataset = YOLODataset(images_dir, labels_dir, transform=train_transforms)\n",
        "\n",
        "if len(train_dataset) == 0:\n",
        "    print(\"Dataset is empty! Please check your data paths.\")\n",
        "else:\n",
        "    def collate_fn(batch):\n",
        "        return {\n",
        "            'image': torch.stack([item['image'] for item in batch]),\n",
        "            'boxes': [item['boxes'] for item in batch],\n",
        "            'classes': [item['classes'] for item in batch]\n",
        "        }\n",
        "\n",
        "    # Optimisations pour le DataLoader avec GPU\n",
        "    num_workers = 2 if device.type == 'cuda' else 0\n",
        "    pin_memory = True if device.type == 'cuda' else False\n",
        "\n",
        "    train_loader = DataLoader(\n",
        "        train_dataset,\n",
        "        batch_size=4,\n",
        "        shuffle=True,\n",
        "        num_workers=num_workers,\n",
        "        pin_memory=pin_memory,\n",
        "        collate_fn=collate_fn\n",
        "    )\n",
        "\n",
        "    # Analyser les classes dans le dataset\n",
        "    all_classes = []\n",
        "    for i in range(len(train_dataset)):\n",
        "        try:\n",
        "            sample = train_dataset[i]\n",
        "            if 'classes' in sample and len(sample['classes']) > 0:\n",
        "                all_classes.extend(sample['classes'].tolist())\n",
        "        except Exception as e:\n",
        "            print(f\"Warning: Error processing sample {i}: {e}\")\n",
        "            continue\n",
        "\n",
        "    unique_classes = set(all_classes)\n",
        "    num_classes = len(unique_classes) + 1  # +1 pour la classe de fond\n",
        "    print(f\"Detected {num_classes-1} unique classes: {unique_classes}\")\n",
        "\n",
        "    # Définir le modèle\n",
        "    def get_model(num_classes):\n",
        "        model = models.detection.fasterrcnn_resnet50_fpn(weights=\"DEFAULT\")\n",
        "        in_features = model.roi_heads.box_predictor.cls_score.in_features\n",
        "        model.roi_heads.box_predictor = FastRCNNPredictor(in_features, num_classes)\n",
        "        return model\n",
        "\n",
        "    model = get_model(num_classes)\n",
        "    model.to(device)\n",
        "\n",
        "    # Définir l'optimiseur et le scheduler\n",
        "    params = [p for p in model.parameters() if p.requires_grad]\n",
        "    optimizer = optim.SGD(params, lr=0.005, momentum=0.9, weight_decay=0.0005)\n",
        "    lr_scheduler = optim.lr_scheduler.StepLR(optimizer, step_size=3, gamma=0.1)\n",
        "\n",
        "    # Nombre d'époques augmenté à 100\n",
        "    num_epochs = 100\n",
        "\n",
        "    # Sauvegarde du meilleur modèle\n",
        "    best_loss = float('inf')\n",
        "\n",
        "    # Boucle d'entraînement\n",
        "    for epoch in range(num_epochs):\n",
        "        model.train()\n",
        "        total_loss = 0\n",
        "        epoch_count = 0\n",
        "\n",
        "        for batch in tqdm(train_loader, desc=f\"Epoch {epoch+1}/{num_epochs}\"):\n",
        "            try:\n",
        "                images = list(img.to(device) for img in batch['image'])\n",
        "                targets = []\n",
        "\n",
        "                for i in range(len(images)):\n",
        "                    target = {}\n",
        "                    boxes = batch['boxes'][i]\n",
        "\n",
        "                    # Ignorer les échantillons sans boxes valides dès le début\n",
        "                    if len(boxes) == 0:\n",
        "                        target['boxes'] = torch.zeros((0, 4), dtype=torch.float32).to(device)\n",
        "                        target['labels'] = torch.tensor([], dtype=torch.int64).to(device)\n",
        "                        targets.append(target)\n",
        "                        continue\n",
        "\n",
        "                    # Conversion et validation des boxes\n",
        "                    boxes = torch.tensor(boxes, dtype=torch.float32)\n",
        "\n",
        "                    # Vérifier la taille correcte des boxes\n",
        "                    if boxes.shape[0] == 0 or boxes.dim() != 2 or boxes.shape[1] != 4:\n",
        "                        target['boxes'] = torch.zeros((0, 4), dtype=torch.float32).to(device)\n",
        "                        target['labels'] = torch.tensor([], dtype=torch.int64).to(device)\n",
        "                        targets.append(target)\n",
        "                        continue\n",
        "\n",
        "                    try:\n",
        "                        x_centers, y_centers, widths, heights = boxes[:, 0], boxes[:, 1], boxes[:, 2], boxes[:, 3]\n",
        "\n",
        "                        # Vérifier la validité des dimensions\n",
        "                        valid_boxes = (widths > 0) & (heights > 0) & (x_centers > 0) & (x_centers < 1) & (y_centers > 0) & (y_centers < 1)\n",
        "\n",
        "                        if not torch.any(valid_boxes):\n",
        "                            target['boxes'] = torch.zeros((0, 4), dtype=torch.float32).to(device)\n",
        "                            target['labels'] = torch.tensor([], dtype=torch.int64).to(device)\n",
        "                            targets.append(target)\n",
        "                            continue\n",
        "\n",
        "                        # Filtrer les boxes valides\n",
        "                        x_centers = x_centers[valid_boxes]\n",
        "                        y_centers = y_centers[valid_boxes]\n",
        "                        widths = widths[valid_boxes]\n",
        "                        heights = heights[valid_boxes]\n",
        "\n",
        "                        # Conversion au format (x1, y1, x2, y2)\n",
        "                        x1s = (x_centers - widths/2)\n",
        "                        y1s = (y_centers - heights/2)\n",
        "                        x2s = (x_centers + widths/2)\n",
        "                        y2s = (y_centers + heights/2)\n",
        "\n",
        "                        # Vérifier que les dimensions de l'image sont disponibles\n",
        "                        if images[i].dim() > 2:\n",
        "                            h, w = images[i].shape[1:3]\n",
        "\n",
        "                            # Mise à l'échelle des coordonnées\n",
        "                            x1s = x1s * w\n",
        "                            y1s = y1s * h\n",
        "                            x2s = x2s * w\n",
        "                            y2s = y2s * h\n",
        "\n",
        "                            # Créer les tenseurs de boxes et labels\n",
        "                            converted_boxes = torch.tensor([[x1, y1, x2, y2] for x1, y1, x2, y2 in zip(x1s, y1s, x2s, y2s)], dtype=torch.float32).to(device)\n",
        "\n",
        "                            # Vérifier si batch['classes'][i] a des éléments valides\n",
        "                            if i < len(batch['classes']) and len(batch['classes'][i]) > 0:\n",
        "                                valid_classes_idx = valid_boxes.nonzero().flatten().cpu().numpy()\n",
        "                                if len(valid_classes_idx) > 0 and len(batch['classes'][i]) > max(valid_classes_idx):\n",
        "                                    valid_classes = batch['classes'][i][valid_classes_idx]\n",
        "                                    if len(valid_classes) > 0:\n",
        "                                        target['boxes'] = converted_boxes\n",
        "                                        target['labels'] = torch.tensor(valid_classes, dtype=torch.int64).to(device)\n",
        "                                    else:\n",
        "                                        target['boxes'] = torch.zeros((0, 4), dtype=torch.float32).to(device)\n",
        "                                        target['labels'] = torch.tensor([], dtype=torch.int64).to(device)\n",
        "                                else:\n",
        "                                    target['boxes'] = torch.zeros((0, 4), dtype=torch.float32).to(device)\n",
        "                                    target['labels'] = torch.tensor([], dtype=torch.int64).to(device)\n",
        "                            else:\n",
        "                                target['boxes'] = torch.zeros((0, 4), dtype=torch.float32).to(device)\n",
        "                                target['labels'] = torch.tensor([], dtype=torch.int64).to(device)\n",
        "                        else:\n",
        "                            # Si l'image n'a pas les dimensions attendues\n",
        "                            target['boxes'] = torch.zeros((0, 4), dtype=torch.float32).to(device)\n",
        "                            target['labels'] = torch.tensor([], dtype=torch.int64).to(device)\n",
        "                    except Exception as e:\n",
        "                        print(f\"Erreur lors du traitement des boxes : {e}\")\n",
        "                        target['boxes'] = torch.zeros((0, 4), dtype=torch.float32).to(device)\n",
        "                        target['labels'] = torch.tensor([], dtype=torch.int64).to(device)\n",
        "\n",
        "                    targets.append(target)\n",
        "\n",
        "                # Vérifier que tous les targets ont les champs requis\n",
        "                if all('boxes' in target and 'labels' in target for target in targets):\n",
        "                    # Forward pass\n",
        "                    loss_dict = model(images, targets)\n",
        "                    losses = sum(loss for loss in loss_dict.values())\n",
        "\n",
        "                    # Backward pass\n",
        "                    optimizer.zero_grad()\n",
        "                    losses.backward()\n",
        "                    optimizer.step()\n",
        "\n",
        "                    total_loss += losses.item()\n",
        "                    epoch_count += 1\n",
        "                else:\n",
        "                    print(\"Skipping batch due to invalid target shapes\")\n",
        "            except Exception as e:\n",
        "                print(f\"Error processing batch: {e}\")\n",
        "                # Libérer la mémoire en cas d'erreur pour éviter les fuites\n",
        "                if torch.cuda.is_available():\n",
        "                    torch.cuda.empty_cache()\n",
        "                continue\n",
        "\n",
        "        # Mise à jour du scheduler et affichage du loss\n",
        "        lr_scheduler.step()\n",
        "        mean_loss = total_loss / max(1, epoch_count)\n",
        "        print(f\"Epoch {epoch+1}/{num_epochs} Loss: {mean_loss:.4f}\")\n",
        "\n",
        "        # Sauvegarde du meilleur modèle\n",
        "        if mean_loss < best_loss:\n",
        "            best_loss = mean_loss\n",
        "            torch.save(model.state_dict(), 'best_summit_seeker_model.pth')\n",
        "            print(f\"New best model saved with loss: {best_loss:.4f}\")\n",
        "\n",
        "        # Sauvegarde du modèle toutes les 10 époques\n",
        "        if (epoch + 1) % 10 == 0:\n",
        "            torch.save(model.state_dict(), f'summit_seeker_model_epoch{epoch+1}.pth')\n",
        "            print(f\"Checkpoint saved at epoch {epoch+1}\")\n",
        "\n",
        "        # Libérer la mémoire GPU à la fin de chaque époque\n",
        "        if device.type == 'cuda':\n",
        "            torch.cuda.empty_cache()\n",
        "\n",
        "    # Sauvegarde du modèle final\n",
        "    torch.save(model.state_dict(), 'summit_seeker_model_mountain.pth')\n",
        "    print(\"Final model saved successfully!\")"
      ],
      "metadata": {
        "colab": {
          "base_uri": "https://localhost:8080/"
        },
        "id": "lylK5S9dnpjH",
        "outputId": "2cdf185b-ca31-473d-f6a5-99b689953b48"
      },
      "execution_count": 5,
      "outputs": [
        {
          "output_type": "stream",
          "name": "stdout",
          "text": [
            "GPU disponible. Utilisation du GPU pour l'entraînement.\n",
            "GPU utilisé: Tesla T4\n",
            "Mémoire GPU totale: 15.83 GB\n",
            "Mémoire GPU disponible: 0.52 GB utilisée\n",
            "Images directory exists: True\n",
            "Labels directory exists: True\n",
            "Found 45 images\n",
            "Detected 1 unique classes: {0}\n"
          ]
        },
        {
          "output_type": "stream",
          "name": "stderr",
          "text": [
            "Epoch 1/100: 100%|██████████| 12/12 [00:08<00:00,  1.38it/s]\n"
          ]
        },
        {
          "output_type": "stream",
          "name": "stdout",
          "text": [
            "Epoch 1/100 Loss: 1.0580\n",
            "New best model saved with loss: 1.0580\n"
          ]
        },
        {
          "output_type": "stream",
          "name": "stderr",
          "text": [
            "Epoch 2/100: 100%|██████████| 12/12 [00:08<00:00,  1.35it/s]\n"
          ]
        },
        {
          "output_type": "stream",
          "name": "stdout",
          "text": [
            "Epoch 2/100 Loss: 0.4931\n",
            "New best model saved with loss: 0.4931\n"
          ]
        },
        {
          "output_type": "stream",
          "name": "stderr",
          "text": [
            "Epoch 3/100: 100%|██████████| 12/12 [00:09<00:00,  1.33it/s]\n"
          ]
        },
        {
          "output_type": "stream",
          "name": "stdout",
          "text": [
            "Epoch 3/100 Loss: 0.3920\n",
            "New best model saved with loss: 0.3920\n"
          ]
        },
        {
          "output_type": "stream",
          "name": "stderr",
          "text": [
            "Epoch 4/100: 100%|██████████| 12/12 [00:09<00:00,  1.33it/s]\n"
          ]
        },
        {
          "output_type": "stream",
          "name": "stdout",
          "text": [
            "Epoch 4/100 Loss: 0.4136\n"
          ]
        },
        {
          "output_type": "stream",
          "name": "stderr",
          "text": [
            "Epoch 5/100: 100%|██████████| 12/12 [00:08<00:00,  1.40it/s]\n"
          ]
        },
        {
          "output_type": "stream",
          "name": "stdout",
          "text": [
            "Epoch 5/100 Loss: 0.3965\n"
          ]
        },
        {
          "output_type": "stream",
          "name": "stderr",
          "text": [
            "Epoch 6/100: 100%|██████████| 12/12 [00:08<00:00,  1.39it/s]\n"
          ]
        },
        {
          "output_type": "stream",
          "name": "stdout",
          "text": [
            "Epoch 6/100 Loss: 0.3244\n",
            "New best model saved with loss: 0.3244\n"
          ]
        },
        {
          "output_type": "stream",
          "name": "stderr",
          "text": [
            "Epoch 7/100: 100%|██████████| 12/12 [00:08<00:00,  1.41it/s]\n"
          ]
        },
        {
          "output_type": "stream",
          "name": "stdout",
          "text": [
            "Epoch 7/100 Loss: 0.3590\n"
          ]
        },
        {
          "output_type": "stream",
          "name": "stderr",
          "text": [
            "Epoch 8/100: 100%|██████████| 12/12 [00:08<00:00,  1.41it/s]\n"
          ]
        },
        {
          "output_type": "stream",
          "name": "stdout",
          "text": [
            "Epoch 8/100 Loss: 0.3176\n",
            "New best model saved with loss: 0.3176\n"
          ]
        },
        {
          "output_type": "stream",
          "name": "stderr",
          "text": [
            "Epoch 9/100: 100%|██████████| 12/12 [00:09<00:00,  1.32it/s]\n"
          ]
        },
        {
          "output_type": "stream",
          "name": "stdout",
          "text": [
            "Epoch 9/100 Loss: 0.3297\n"
          ]
        },
        {
          "output_type": "stream",
          "name": "stderr",
          "text": [
            "Epoch 10/100: 100%|██████████| 12/12 [00:08<00:00,  1.40it/s]\n"
          ]
        },
        {
          "output_type": "stream",
          "name": "stdout",
          "text": [
            "Epoch 10/100 Loss: 0.2893\n",
            "New best model saved with loss: 0.2893\n",
            "Checkpoint saved at epoch 10\n"
          ]
        },
        {
          "output_type": "stream",
          "name": "stderr",
          "text": [
            "Epoch 11/100: 100%|██████████| 12/12 [00:09<00:00,  1.29it/s]\n"
          ]
        },
        {
          "output_type": "stream",
          "name": "stdout",
          "text": [
            "Epoch 11/100 Loss: 0.3010\n"
          ]
        },
        {
          "output_type": "stream",
          "name": "stderr",
          "text": [
            "Epoch 12/100: 100%|██████████| 12/12 [00:08<00:00,  1.35it/s]\n"
          ]
        },
        {
          "output_type": "stream",
          "name": "stdout",
          "text": [
            "Epoch 12/100 Loss: 0.2905\n"
          ]
        },
        {
          "output_type": "stream",
          "name": "stderr",
          "text": [
            "Epoch 13/100: 100%|██████████| 12/12 [00:08<00:00,  1.39it/s]\n"
          ]
        },
        {
          "output_type": "stream",
          "name": "stdout",
          "text": [
            "Epoch 13/100 Loss: 0.3200\n"
          ]
        },
        {
          "output_type": "stream",
          "name": "stderr",
          "text": [
            "Epoch 14/100: 100%|██████████| 12/12 [00:08<00:00,  1.39it/s]\n"
          ]
        },
        {
          "output_type": "stream",
          "name": "stdout",
          "text": [
            "Epoch 14/100 Loss: 0.3078\n"
          ]
        },
        {
          "output_type": "stream",
          "name": "stderr",
          "text": [
            "Epoch 15/100: 100%|██████████| 12/12 [00:08<00:00,  1.34it/s]\n"
          ]
        },
        {
          "output_type": "stream",
          "name": "stdout",
          "text": [
            "Epoch 15/100 Loss: 0.2740\n",
            "New best model saved with loss: 0.2740\n"
          ]
        },
        {
          "output_type": "stream",
          "name": "stderr",
          "text": [
            "Epoch 16/100: 100%|██████████| 12/12 [00:08<00:00,  1.39it/s]\n"
          ]
        },
        {
          "output_type": "stream",
          "name": "stdout",
          "text": [
            "Epoch 16/100 Loss: 0.3467\n"
          ]
        },
        {
          "output_type": "stream",
          "name": "stderr",
          "text": [
            "Epoch 17/100: 100%|██████████| 12/12 [00:08<00:00,  1.40it/s]\n"
          ]
        },
        {
          "output_type": "stream",
          "name": "stdout",
          "text": [
            "Epoch 17/100 Loss: 0.2976\n"
          ]
        },
        {
          "output_type": "stream",
          "name": "stderr",
          "text": [
            "Epoch 18/100: 100%|██████████| 12/12 [00:08<00:00,  1.36it/s]\n"
          ]
        },
        {
          "output_type": "stream",
          "name": "stdout",
          "text": [
            "Epoch 18/100 Loss: 0.3776\n"
          ]
        },
        {
          "output_type": "stream",
          "name": "stderr",
          "text": [
            "Epoch 19/100: 100%|██████████| 12/12 [00:08<00:00,  1.39it/s]\n"
          ]
        },
        {
          "output_type": "stream",
          "name": "stdout",
          "text": [
            "Epoch 19/100 Loss: 0.3770\n"
          ]
        },
        {
          "output_type": "stream",
          "name": "stderr",
          "text": [
            "Epoch 20/100: 100%|██████████| 12/12 [00:08<00:00,  1.40it/s]\n"
          ]
        },
        {
          "output_type": "stream",
          "name": "stdout",
          "text": [
            "Epoch 20/100 Loss: 0.3203\n",
            "Checkpoint saved at epoch 20\n"
          ]
        },
        {
          "output_type": "stream",
          "name": "stderr",
          "text": [
            "Epoch 21/100: 100%|██████████| 12/12 [00:08<00:00,  1.35it/s]\n"
          ]
        },
        {
          "output_type": "stream",
          "name": "stdout",
          "text": [
            "Epoch 21/100 Loss: 0.3731\n"
          ]
        },
        {
          "output_type": "stream",
          "name": "stderr",
          "text": [
            "Epoch 22/100: 100%|██████████| 12/12 [00:08<00:00,  1.38it/s]\n"
          ]
        },
        {
          "output_type": "stream",
          "name": "stdout",
          "text": [
            "Epoch 22/100 Loss: 0.2811\n"
          ]
        },
        {
          "output_type": "stream",
          "name": "stderr",
          "text": [
            "Epoch 23/100: 100%|██████████| 12/12 [00:08<00:00,  1.40it/s]\n"
          ]
        },
        {
          "output_type": "stream",
          "name": "stdout",
          "text": [
            "Epoch 23/100 Loss: 0.2889\n"
          ]
        },
        {
          "output_type": "stream",
          "name": "stderr",
          "text": [
            "Epoch 24/100: 100%|██████████| 12/12 [00:08<00:00,  1.35it/s]\n"
          ]
        },
        {
          "output_type": "stream",
          "name": "stdout",
          "text": [
            "Epoch 24/100 Loss: 0.3781\n"
          ]
        },
        {
          "output_type": "stream",
          "name": "stderr",
          "text": [
            "Epoch 25/100: 100%|██████████| 12/12 [00:08<00:00,  1.40it/s]\n"
          ]
        },
        {
          "output_type": "stream",
          "name": "stdout",
          "text": [
            "Epoch 25/100 Loss: 0.3115\n"
          ]
        },
        {
          "output_type": "stream",
          "name": "stderr",
          "text": [
            "Epoch 26/100: 100%|██████████| 12/12 [00:08<00:00,  1.39it/s]\n"
          ]
        },
        {
          "output_type": "stream",
          "name": "stdout",
          "text": [
            "Epoch 26/100 Loss: 0.3514\n"
          ]
        },
        {
          "output_type": "stream",
          "name": "stderr",
          "text": [
            "Epoch 27/100: 100%|██████████| 12/12 [00:08<00:00,  1.35it/s]\n"
          ]
        },
        {
          "output_type": "stream",
          "name": "stdout",
          "text": [
            "Epoch 27/100 Loss: 0.3489\n"
          ]
        },
        {
          "output_type": "stream",
          "name": "stderr",
          "text": [
            "Epoch 28/100: 100%|██████████| 12/12 [00:08<00:00,  1.39it/s]\n"
          ]
        },
        {
          "output_type": "stream",
          "name": "stdout",
          "text": [
            "Epoch 28/100 Loss: 0.3030\n"
          ]
        },
        {
          "output_type": "stream",
          "name": "stderr",
          "text": [
            "Epoch 29/100: 100%|██████████| 12/12 [00:08<00:00,  1.40it/s]\n"
          ]
        },
        {
          "output_type": "stream",
          "name": "stdout",
          "text": [
            "Epoch 29/100 Loss: 0.3276\n"
          ]
        },
        {
          "output_type": "stream",
          "name": "stderr",
          "text": [
            "Epoch 30/100: 100%|██████████| 12/12 [00:08<00:00,  1.37it/s]\n"
          ]
        },
        {
          "output_type": "stream",
          "name": "stdout",
          "text": [
            "Epoch 30/100 Loss: 0.3177\n",
            "Checkpoint saved at epoch 30\n"
          ]
        },
        {
          "output_type": "stream",
          "name": "stderr",
          "text": [
            "Epoch 31/100: 100%|██████████| 12/12 [00:08<00:00,  1.39it/s]\n"
          ]
        },
        {
          "output_type": "stream",
          "name": "stdout",
          "text": [
            "Epoch 31/100 Loss: 0.3240\n"
          ]
        },
        {
          "output_type": "stream",
          "name": "stderr",
          "text": [
            "Epoch 32/100: 100%|██████████| 12/12 [00:08<00:00,  1.40it/s]\n"
          ]
        },
        {
          "output_type": "stream",
          "name": "stdout",
          "text": [
            "Epoch 32/100 Loss: 0.3580\n"
          ]
        },
        {
          "output_type": "stream",
          "name": "stderr",
          "text": [
            "Epoch 33/100: 100%|██████████| 12/12 [00:08<00:00,  1.38it/s]\n"
          ]
        },
        {
          "output_type": "stream",
          "name": "stdout",
          "text": [
            "Epoch 33/100 Loss: 0.2990\n"
          ]
        },
        {
          "output_type": "stream",
          "name": "stderr",
          "text": [
            "Epoch 34/100: 100%|██████████| 12/12 [00:08<00:00,  1.38it/s]\n"
          ]
        },
        {
          "output_type": "stream",
          "name": "stdout",
          "text": [
            "Epoch 34/100 Loss: 0.3266\n"
          ]
        },
        {
          "output_type": "stream",
          "name": "stderr",
          "text": [
            "Epoch 35/100: 100%|██████████| 12/12 [00:08<00:00,  1.40it/s]\n"
          ]
        },
        {
          "output_type": "stream",
          "name": "stdout",
          "text": [
            "Epoch 35/100 Loss: 0.3077\n"
          ]
        },
        {
          "output_type": "stream",
          "name": "stderr",
          "text": [
            "Epoch 36/100: 100%|██████████| 12/12 [00:08<00:00,  1.39it/s]\n"
          ]
        },
        {
          "output_type": "stream",
          "name": "stdout",
          "text": [
            "Epoch 36/100 Loss: 0.3716\n"
          ]
        },
        {
          "output_type": "stream",
          "name": "stderr",
          "text": [
            "Epoch 37/100: 100%|██████████| 12/12 [00:08<00:00,  1.39it/s]\n"
          ]
        },
        {
          "output_type": "stream",
          "name": "stdout",
          "text": [
            "Epoch 37/100 Loss: 0.4019\n"
          ]
        },
        {
          "output_type": "stream",
          "name": "stderr",
          "text": [
            "Epoch 38/100: 100%|██████████| 12/12 [00:08<00:00,  1.40it/s]\n"
          ]
        },
        {
          "output_type": "stream",
          "name": "stdout",
          "text": [
            "Epoch 38/100 Loss: 0.3765\n"
          ]
        },
        {
          "output_type": "stream",
          "name": "stderr",
          "text": [
            "Epoch 39/100: 100%|██████████| 12/12 [00:08<00:00,  1.38it/s]\n"
          ]
        },
        {
          "output_type": "stream",
          "name": "stdout",
          "text": [
            "Epoch 39/100 Loss: 0.4240\n"
          ]
        },
        {
          "output_type": "stream",
          "name": "stderr",
          "text": [
            "Epoch 40/100: 100%|██████████| 12/12 [00:08<00:00,  1.38it/s]\n"
          ]
        },
        {
          "output_type": "stream",
          "name": "stdout",
          "text": [
            "Epoch 40/100 Loss: 0.3208\n",
            "Checkpoint saved at epoch 40\n"
          ]
        },
        {
          "output_type": "stream",
          "name": "stderr",
          "text": [
            "Epoch 41/100: 100%|██████████| 12/12 [00:08<00:00,  1.34it/s]\n"
          ]
        },
        {
          "output_type": "stream",
          "name": "stdout",
          "text": [
            "Epoch 41/100 Loss: 0.3510\n"
          ]
        },
        {
          "output_type": "stream",
          "name": "stderr",
          "text": [
            "Epoch 42/100: 100%|██████████| 12/12 [00:08<00:00,  1.39it/s]\n"
          ]
        },
        {
          "output_type": "stream",
          "name": "stdout",
          "text": [
            "Epoch 42/100 Loss: 0.3059\n"
          ]
        },
        {
          "output_type": "stream",
          "name": "stderr",
          "text": [
            "Epoch 43/100: 100%|██████████| 12/12 [00:08<00:00,  1.39it/s]\n"
          ]
        },
        {
          "output_type": "stream",
          "name": "stdout",
          "text": [
            "Epoch 43/100 Loss: 0.2801\n"
          ]
        },
        {
          "output_type": "stream",
          "name": "stderr",
          "text": [
            "Epoch 44/100: 100%|██████████| 12/12 [00:08<00:00,  1.40it/s]\n"
          ]
        },
        {
          "output_type": "stream",
          "name": "stdout",
          "text": [
            "Epoch 44/100 Loss: 0.4036\n"
          ]
        },
        {
          "output_type": "stream",
          "name": "stderr",
          "text": [
            "Epoch 45/100: 100%|██████████| 12/12 [00:08<00:00,  1.39it/s]\n"
          ]
        },
        {
          "output_type": "stream",
          "name": "stdout",
          "text": [
            "Epoch 45/100 Loss: 0.2947\n"
          ]
        },
        {
          "output_type": "stream",
          "name": "stderr",
          "text": [
            "Epoch 46/100: 100%|██████████| 12/12 [00:08<00:00,  1.38it/s]\n"
          ]
        },
        {
          "output_type": "stream",
          "name": "stdout",
          "text": [
            "Epoch 46/100 Loss: 0.2811\n"
          ]
        },
        {
          "output_type": "stream",
          "name": "stderr",
          "text": [
            "Epoch 47/100: 100%|██████████| 12/12 [00:08<00:00,  1.39it/s]\n"
          ]
        },
        {
          "output_type": "stream",
          "name": "stdout",
          "text": [
            "Epoch 47/100 Loss: 0.3486\n"
          ]
        },
        {
          "output_type": "stream",
          "name": "stderr",
          "text": [
            "Epoch 48/100: 100%|██████████| 12/12 [00:08<00:00,  1.38it/s]\n"
          ]
        },
        {
          "output_type": "stream",
          "name": "stdout",
          "text": [
            "Epoch 48/100 Loss: 0.2966\n"
          ]
        },
        {
          "output_type": "stream",
          "name": "stderr",
          "text": [
            "Epoch 49/100: 100%|██████████| 12/12 [00:08<00:00,  1.39it/s]\n"
          ]
        },
        {
          "output_type": "stream",
          "name": "stdout",
          "text": [
            "Epoch 49/100 Loss: 0.3378\n"
          ]
        },
        {
          "output_type": "stream",
          "name": "stderr",
          "text": [
            "Epoch 50/100: 100%|██████████| 12/12 [00:08<00:00,  1.38it/s]\n"
          ]
        },
        {
          "output_type": "stream",
          "name": "stdout",
          "text": [
            "Epoch 50/100 Loss: 0.2847\n",
            "Checkpoint saved at epoch 50\n"
          ]
        },
        {
          "output_type": "stream",
          "name": "stderr",
          "text": [
            "Epoch 51/100: 100%|██████████| 12/12 [00:08<00:00,  1.37it/s]\n"
          ]
        },
        {
          "output_type": "stream",
          "name": "stdout",
          "text": [
            "Epoch 51/100 Loss: 0.2677\n",
            "New best model saved with loss: 0.2677\n"
          ]
        },
        {
          "output_type": "stream",
          "name": "stderr",
          "text": [
            "Epoch 52/100: 100%|██████████| 12/12 [00:08<00:00,  1.38it/s]\n"
          ]
        },
        {
          "output_type": "stream",
          "name": "stdout",
          "text": [
            "Epoch 52/100 Loss: 0.3753\n"
          ]
        },
        {
          "output_type": "stream",
          "name": "stderr",
          "text": [
            "Epoch 53/100: 100%|██████████| 12/12 [00:08<00:00,  1.40it/s]\n"
          ]
        },
        {
          "output_type": "stream",
          "name": "stdout",
          "text": [
            "Epoch 53/100 Loss: 0.3219\n"
          ]
        },
        {
          "output_type": "stream",
          "name": "stderr",
          "text": [
            "Epoch 54/100: 100%|██████████| 12/12 [00:08<00:00,  1.39it/s]\n"
          ]
        },
        {
          "output_type": "stream",
          "name": "stdout",
          "text": [
            "Epoch 54/100 Loss: 0.2995\n"
          ]
        },
        {
          "output_type": "stream",
          "name": "stderr",
          "text": [
            "Epoch 55/100: 100%|██████████| 12/12 [00:08<00:00,  1.39it/s]\n"
          ]
        },
        {
          "output_type": "stream",
          "name": "stdout",
          "text": [
            "Epoch 55/100 Loss: 0.3148\n"
          ]
        },
        {
          "output_type": "stream",
          "name": "stderr",
          "text": [
            "Epoch 56/100: 100%|██████████| 12/12 [00:08<00:00,  1.40it/s]\n"
          ]
        },
        {
          "output_type": "stream",
          "name": "stdout",
          "text": [
            "Epoch 56/100 Loss: 0.3762\n"
          ]
        },
        {
          "output_type": "stream",
          "name": "stderr",
          "text": [
            "Epoch 57/100: 100%|██████████| 12/12 [00:08<00:00,  1.38it/s]\n"
          ]
        },
        {
          "output_type": "stream",
          "name": "stdout",
          "text": [
            "Epoch 57/100 Loss: 0.3586\n"
          ]
        },
        {
          "output_type": "stream",
          "name": "stderr",
          "text": [
            "Epoch 58/100: 100%|██████████| 12/12 [00:08<00:00,  1.39it/s]\n"
          ]
        },
        {
          "output_type": "stream",
          "name": "stdout",
          "text": [
            "Epoch 58/100 Loss: 0.3004\n"
          ]
        },
        {
          "output_type": "stream",
          "name": "stderr",
          "text": [
            "Epoch 59/100: 100%|██████████| 12/12 [00:08<00:00,  1.37it/s]\n"
          ]
        },
        {
          "output_type": "stream",
          "name": "stdout",
          "text": [
            "Epoch 59/100 Loss: 0.3489\n"
          ]
        },
        {
          "output_type": "stream",
          "name": "stderr",
          "text": [
            "Epoch 60/100: 100%|██████████| 12/12 [00:08<00:00,  1.39it/s]\n"
          ]
        },
        {
          "output_type": "stream",
          "name": "stdout",
          "text": [
            "Epoch 60/100 Loss: 0.3076\n",
            "Checkpoint saved at epoch 60\n"
          ]
        },
        {
          "output_type": "stream",
          "name": "stderr",
          "text": [
            "Epoch 61/100: 100%|██████████| 12/12 [00:08<00:00,  1.39it/s]\n"
          ]
        },
        {
          "output_type": "stream",
          "name": "stdout",
          "text": [
            "Epoch 61/100 Loss: 0.3266\n"
          ]
        },
        {
          "output_type": "stream",
          "name": "stderr",
          "text": [
            "Epoch 62/100: 100%|██████████| 12/12 [00:08<00:00,  1.37it/s]\n"
          ]
        },
        {
          "output_type": "stream",
          "name": "stdout",
          "text": [
            "Epoch 62/100 Loss: 0.3207\n"
          ]
        },
        {
          "output_type": "stream",
          "name": "stderr",
          "text": [
            "Epoch 63/100: 100%|██████████| 12/12 [00:08<00:00,  1.40it/s]\n"
          ]
        },
        {
          "output_type": "stream",
          "name": "stdout",
          "text": [
            "Epoch 63/100 Loss: 0.3013\n"
          ]
        },
        {
          "output_type": "stream",
          "name": "stderr",
          "text": [
            "Epoch 64/100: 100%|██████████| 12/12 [00:08<00:00,  1.39it/s]\n"
          ]
        },
        {
          "output_type": "stream",
          "name": "stdout",
          "text": [
            "Epoch 64/100 Loss: 0.2732\n"
          ]
        },
        {
          "output_type": "stream",
          "name": "stderr",
          "text": [
            "Epoch 65/100: 100%|██████████| 12/12 [00:08<00:00,  1.35it/s]\n"
          ]
        },
        {
          "output_type": "stream",
          "name": "stdout",
          "text": [
            "Epoch 65/100 Loss: 0.3819\n"
          ]
        },
        {
          "output_type": "stream",
          "name": "stderr",
          "text": [
            "Epoch 66/100: 100%|██████████| 12/12 [00:08<00:00,  1.38it/s]\n"
          ]
        },
        {
          "output_type": "stream",
          "name": "stdout",
          "text": [
            "Epoch 66/100 Loss: 0.3389\n"
          ]
        },
        {
          "output_type": "stream",
          "name": "stderr",
          "text": [
            "Epoch 67/100: 100%|██████████| 12/12 [00:08<00:00,  1.39it/s]\n"
          ]
        },
        {
          "output_type": "stream",
          "name": "stdout",
          "text": [
            "Epoch 67/100 Loss: 0.4060\n"
          ]
        },
        {
          "output_type": "stream",
          "name": "stderr",
          "text": [
            "Epoch 68/100: 100%|██████████| 12/12 [00:08<00:00,  1.37it/s]\n"
          ]
        },
        {
          "output_type": "stream",
          "name": "stdout",
          "text": [
            "Epoch 68/100 Loss: 0.3806\n"
          ]
        },
        {
          "output_type": "stream",
          "name": "stderr",
          "text": [
            "Epoch 69/100: 100%|██████████| 12/12 [00:08<00:00,  1.39it/s]\n"
          ]
        },
        {
          "output_type": "stream",
          "name": "stdout",
          "text": [
            "Epoch 69/100 Loss: 0.3110\n"
          ]
        },
        {
          "output_type": "stream",
          "name": "stderr",
          "text": [
            "Epoch 70/100: 100%|██████████| 12/12 [00:08<00:00,  1.39it/s]\n"
          ]
        },
        {
          "output_type": "stream",
          "name": "stdout",
          "text": [
            "Epoch 70/100 Loss: 0.3147\n",
            "Checkpoint saved at epoch 70\n"
          ]
        },
        {
          "output_type": "stream",
          "name": "stderr",
          "text": [
            "Epoch 71/100: 100%|██████████| 12/12 [00:08<00:00,  1.35it/s]\n"
          ]
        },
        {
          "output_type": "stream",
          "name": "stdout",
          "text": [
            "Epoch 71/100 Loss: 0.3512\n"
          ]
        },
        {
          "output_type": "stream",
          "name": "stderr",
          "text": [
            "Epoch 72/100: 100%|██████████| 12/12 [00:08<00:00,  1.40it/s]\n"
          ]
        },
        {
          "output_type": "stream",
          "name": "stdout",
          "text": [
            "Epoch 72/100 Loss: 0.3176\n"
          ]
        },
        {
          "output_type": "stream",
          "name": "stderr",
          "text": [
            "Epoch 73/100: 100%|██████████| 12/12 [00:08<00:00,  1.39it/s]\n"
          ]
        },
        {
          "output_type": "stream",
          "name": "stdout",
          "text": [
            "Epoch 73/100 Loss: 0.3010\n"
          ]
        },
        {
          "output_type": "stream",
          "name": "stderr",
          "text": [
            "Epoch 74/100: 100%|██████████| 12/12 [00:08<00:00,  1.35it/s]\n"
          ]
        },
        {
          "output_type": "stream",
          "name": "stdout",
          "text": [
            "Epoch 74/100 Loss: 0.3094\n"
          ]
        },
        {
          "output_type": "stream",
          "name": "stderr",
          "text": [
            "Epoch 75/100: 100%|██████████| 12/12 [00:08<00:00,  1.39it/s]\n"
          ]
        },
        {
          "output_type": "stream",
          "name": "stdout",
          "text": [
            "Epoch 75/100 Loss: 0.3151\n"
          ]
        },
        {
          "output_type": "stream",
          "name": "stderr",
          "text": [
            "Epoch 76/100: 100%|██████████| 12/12 [00:08<00:00,  1.38it/s]\n"
          ]
        },
        {
          "output_type": "stream",
          "name": "stdout",
          "text": [
            "Epoch 76/100 Loss: 0.3508\n"
          ]
        },
        {
          "output_type": "stream",
          "name": "stderr",
          "text": [
            "Epoch 77/100: 100%|██████████| 12/12 [00:08<00:00,  1.35it/s]\n"
          ]
        },
        {
          "output_type": "stream",
          "name": "stdout",
          "text": [
            "Epoch 77/100 Loss: 0.3434\n"
          ]
        },
        {
          "output_type": "stream",
          "name": "stderr",
          "text": [
            "Epoch 78/100: 100%|██████████| 12/12 [00:08<00:00,  1.38it/s]\n"
          ]
        },
        {
          "output_type": "stream",
          "name": "stdout",
          "text": [
            "Epoch 78/100 Loss: 0.3221\n"
          ]
        },
        {
          "output_type": "stream",
          "name": "stderr",
          "text": [
            "Epoch 79/100: 100%|██████████| 12/12 [00:08<00:00,  1.40it/s]\n"
          ]
        },
        {
          "output_type": "stream",
          "name": "stdout",
          "text": [
            "Epoch 79/100 Loss: 0.2923\n"
          ]
        },
        {
          "output_type": "stream",
          "name": "stderr",
          "text": [
            "Epoch 80/100: 100%|██████████| 12/12 [00:08<00:00,  1.35it/s]\n"
          ]
        },
        {
          "output_type": "stream",
          "name": "stdout",
          "text": [
            "Epoch 80/100 Loss: 0.3057\n",
            "Checkpoint saved at epoch 80\n"
          ]
        },
        {
          "output_type": "stream",
          "name": "stderr",
          "text": [
            "Epoch 81/100: 100%|██████████| 12/12 [00:08<00:00,  1.39it/s]\n"
          ]
        },
        {
          "output_type": "stream",
          "name": "stdout",
          "text": [
            "Epoch 81/100 Loss: 0.2859\n"
          ]
        },
        {
          "output_type": "stream",
          "name": "stderr",
          "text": [
            "Epoch 82/100: 100%|██████████| 12/12 [00:08<00:00,  1.40it/s]\n"
          ]
        },
        {
          "output_type": "stream",
          "name": "stdout",
          "text": [
            "Epoch 82/100 Loss: 0.3059\n"
          ]
        },
        {
          "output_type": "stream",
          "name": "stderr",
          "text": [
            "Epoch 83/100: 100%|██████████| 12/12 [00:08<00:00,  1.36it/s]\n"
          ]
        },
        {
          "output_type": "stream",
          "name": "stdout",
          "text": [
            "Epoch 83/100 Loss: 0.2791\n"
          ]
        },
        {
          "output_type": "stream",
          "name": "stderr",
          "text": [
            "Epoch 84/100: 100%|██████████| 12/12 [00:08<00:00,  1.39it/s]\n"
          ]
        },
        {
          "output_type": "stream",
          "name": "stdout",
          "text": [
            "Epoch 84/100 Loss: 0.3143\n"
          ]
        },
        {
          "output_type": "stream",
          "name": "stderr",
          "text": [
            "Epoch 85/100: 100%|██████████| 12/12 [00:08<00:00,  1.39it/s]\n"
          ]
        },
        {
          "output_type": "stream",
          "name": "stdout",
          "text": [
            "Epoch 85/100 Loss: 0.2706\n"
          ]
        },
        {
          "output_type": "stream",
          "name": "stderr",
          "text": [
            "Epoch 86/100: 100%|██████████| 12/12 [00:08<00:00,  1.37it/s]\n"
          ]
        },
        {
          "output_type": "stream",
          "name": "stdout",
          "text": [
            "Epoch 86/100 Loss: 0.3217\n"
          ]
        },
        {
          "output_type": "stream",
          "name": "stderr",
          "text": [
            "Epoch 87/100: 100%|██████████| 12/12 [00:08<00:00,  1.40it/s]\n"
          ]
        },
        {
          "output_type": "stream",
          "name": "stdout",
          "text": [
            "Epoch 87/100 Loss: 0.2847\n"
          ]
        },
        {
          "output_type": "stream",
          "name": "stderr",
          "text": [
            "Epoch 88/100: 100%|██████████| 12/12 [00:08<00:00,  1.39it/s]\n"
          ]
        },
        {
          "output_type": "stream",
          "name": "stdout",
          "text": [
            "Epoch 88/100 Loss: 0.3043\n"
          ]
        },
        {
          "output_type": "stream",
          "name": "stderr",
          "text": [
            "Epoch 89/100: 100%|██████████| 12/12 [00:08<00:00,  1.34it/s]\n"
          ]
        },
        {
          "output_type": "stream",
          "name": "stdout",
          "text": [
            "Epoch 89/100 Loss: 0.2819\n"
          ]
        },
        {
          "output_type": "stream",
          "name": "stderr",
          "text": [
            "Epoch 90/100: 100%|██████████| 12/12 [00:08<00:00,  1.39it/s]\n"
          ]
        },
        {
          "output_type": "stream",
          "name": "stdout",
          "text": [
            "Epoch 90/100 Loss: 0.3049\n",
            "Checkpoint saved at epoch 90\n"
          ]
        },
        {
          "output_type": "stream",
          "name": "stderr",
          "text": [
            "Epoch 91/100: 100%|██████████| 12/12 [00:09<00:00,  1.33it/s]\n"
          ]
        },
        {
          "output_type": "stream",
          "name": "stdout",
          "text": [
            "Epoch 91/100 Loss: 0.3041\n"
          ]
        },
        {
          "output_type": "stream",
          "name": "stderr",
          "text": [
            "Epoch 92/100: 100%|██████████| 12/12 [00:08<00:00,  1.35it/s]\n"
          ]
        },
        {
          "output_type": "stream",
          "name": "stdout",
          "text": [
            "Epoch 92/100 Loss: 0.3608\n"
          ]
        },
        {
          "output_type": "stream",
          "name": "stderr",
          "text": [
            "Epoch 93/100: 100%|██████████| 12/12 [00:08<00:00,  1.39it/s]\n"
          ]
        },
        {
          "output_type": "stream",
          "name": "stdout",
          "text": [
            "Epoch 93/100 Loss: 0.3347\n"
          ]
        },
        {
          "output_type": "stream",
          "name": "stderr",
          "text": [
            "Epoch 94/100: 100%|██████████| 12/12 [00:08<00:00,  1.40it/s]\n"
          ]
        },
        {
          "output_type": "stream",
          "name": "stdout",
          "text": [
            "Epoch 94/100 Loss: 0.3300\n"
          ]
        },
        {
          "output_type": "stream",
          "name": "stderr",
          "text": [
            "Epoch 95/100: 100%|██████████| 12/12 [00:08<00:00,  1.35it/s]\n"
          ]
        },
        {
          "output_type": "stream",
          "name": "stdout",
          "text": [
            "Epoch 95/100 Loss: 0.3302\n"
          ]
        },
        {
          "output_type": "stream",
          "name": "stderr",
          "text": [
            "Epoch 96/100: 100%|██████████| 12/12 [00:08<00:00,  1.39it/s]\n"
          ]
        },
        {
          "output_type": "stream",
          "name": "stdout",
          "text": [
            "Epoch 96/100 Loss: 0.2630\n",
            "New best model saved with loss: 0.2630\n"
          ]
        },
        {
          "output_type": "stream",
          "name": "stderr",
          "text": [
            "Epoch 97/100: 100%|██████████| 12/12 [00:08<00:00,  1.38it/s]\n"
          ]
        },
        {
          "output_type": "stream",
          "name": "stdout",
          "text": [
            "Epoch 97/100 Loss: 0.3694\n"
          ]
        },
        {
          "output_type": "stream",
          "name": "stderr",
          "text": [
            "Epoch 98/100: 100%|██████████| 12/12 [00:08<00:00,  1.35it/s]\n"
          ]
        },
        {
          "output_type": "stream",
          "name": "stdout",
          "text": [
            "Epoch 98/100 Loss: 0.3019\n"
          ]
        },
        {
          "output_type": "stream",
          "name": "stderr",
          "text": [
            "Epoch 99/100: 100%|██████████| 12/12 [00:08<00:00,  1.39it/s]\n"
          ]
        },
        {
          "output_type": "stream",
          "name": "stdout",
          "text": [
            "Epoch 99/100 Loss: 0.3261\n"
          ]
        },
        {
          "output_type": "stream",
          "name": "stderr",
          "text": [
            "Epoch 100/100: 100%|██████████| 12/12 [00:08<00:00,  1.40it/s]\n"
          ]
        },
        {
          "output_type": "stream",
          "name": "stdout",
          "text": [
            "Epoch 100/100 Loss: 0.3309\n",
            "Checkpoint saved at epoch 100\n",
            "Final model saved successfully!\n"
          ]
        }
      ]
    },
    {
      "cell_type": "code",
      "source": [
        "from google.colab import files\n",
        "files.download('/content/best_summit_seeker_model.pth')\n"
      ],
      "metadata": {
        "colab": {
          "base_uri": "https://localhost:8080/",
          "height": 17
        },
        "id": "SKwk8tmStRVc",
        "outputId": "6fdab667-86c1-4bc5-afe9-062544ace39e"
      },
      "execution_count": 7,
      "outputs": [
        {
          "output_type": "display_data",
          "data": {
            "text/plain": [
              "<IPython.core.display.Javascript object>"
            ],
            "application/javascript": [
              "\n",
              "    async function download(id, filename, size) {\n",
              "      if (!google.colab.kernel.accessAllowed) {\n",
              "        return;\n",
              "      }\n",
              "      const div = document.createElement('div');\n",
              "      const label = document.createElement('label');\n",
              "      label.textContent = `Downloading \"${filename}\": `;\n",
              "      div.appendChild(label);\n",
              "      const progress = document.createElement('progress');\n",
              "      progress.max = size;\n",
              "      div.appendChild(progress);\n",
              "      document.body.appendChild(div);\n",
              "\n",
              "      const buffers = [];\n",
              "      let downloaded = 0;\n",
              "\n",
              "      const channel = await google.colab.kernel.comms.open(id);\n",
              "      // Send a message to notify the kernel that we're ready.\n",
              "      channel.send({})\n",
              "\n",
              "      for await (const message of channel.messages) {\n",
              "        // Send a message to notify the kernel that we're ready.\n",
              "        channel.send({})\n",
              "        if (message.buffers) {\n",
              "          for (const buffer of message.buffers) {\n",
              "            buffers.push(buffer);\n",
              "            downloaded += buffer.byteLength;\n",
              "            progress.value = downloaded;\n",
              "          }\n",
              "        }\n",
              "      }\n",
              "      const blob = new Blob(buffers, {type: 'application/binary'});\n",
              "      const a = document.createElement('a');\n",
              "      a.href = window.URL.createObjectURL(blob);\n",
              "      a.download = filename;\n",
              "      div.appendChild(a);\n",
              "      a.click();\n",
              "      div.remove();\n",
              "    }\n",
              "  "
            ]
          },
          "metadata": {}
        },
        {
          "output_type": "display_data",
          "data": {
            "text/plain": [
              "<IPython.core.display.Javascript object>"
            ],
            "application/javascript": [
              "download(\"download_12ec4e0a-4582-44df-ab2f-1723423c0f86\", \"best_summit_seeker_model.pth\", 165732479)"
            ]
          },
          "metadata": {}
        }
      ]
    }
  ]
}